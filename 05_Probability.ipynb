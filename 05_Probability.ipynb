{
 "cells": [
  {
   "cell_type": "markdown",
   "id": "dc8d8ff6",
   "metadata": {},
   "source": [
    "## 5-1. 확률과 확률변수"
   ]
  },
  {
   "cell_type": "markdown",
   "id": "1cf08222",
   "metadata": {},
   "source": [
    "#### 확률\n",
    "확률은 어떤 사건이 일어날 가능성을 0과 1 사이의 실수로 표시하는 것으로, 한 사건이 발생할 확률이 높으면 확률을 1에 가까운 수로 표시하고, 반대로 발생할 가능성이 낮으면 확률을 0에 가까운 수로 표시한다."
   ]
  },
  {
   "cell_type": "markdown",
   "id": "1295c8e3",
   "metadata": {},
   "source": [
    "#### 확률변수\n",
    "확률 변수(probability variable)는 어떤 확률 분포에 기반하여 정의되는 변수, 즉 어떤 사건이 발생할 가능성을 말하며, 일반적으로 이산형(discrete)과 연속형(continuous)로 구분된다. 확률 변수는 이론적으로는 모든 가능한 값을 가질 수 있는데, 이를 확률 분포를 이용하여 나타낼 수 있다."
   ]
  },
  {
   "cell_type": "markdown",
   "id": "47f8fe44",
   "metadata": {},
   "source": [
    "---"
   ]
  },
  {
   "cell_type": "markdown",
   "id": "59ab0942",
   "metadata": {},
   "source": [
    "## 5-2. 확률분포와 표본분포"
   ]
  },
  {
   "cell_type": "markdown",
   "id": "6a3d302d",
   "metadata": {},
   "source": [
    "#### 확률분포\n",
    "어떤 숫자를 두고 큰 수인지, 작은 수인지 판단하기 위해서는 통계적 분포가 필요하고, 통계적 분석은 대부분 분포를 기반으로 한다. 쉽게 설명하기 위해 예를 들면, 130이라는 수가 성인의 키에 대한 숫자라면 작은 수일 것이고, 몸무게(kg)에 대한 숫자라면 큰 수일 것이다. 대표적인 확률분포 중 하나인 정규분포는 평균 $\\mu$와 표준편차 $\\sigma$만 가지고도 어떤 수 $x$의 크고 작음을 확률로 표현할 수 있게 해준다. 확률 분포를 이용하면, 어떤 사건이 발생할 확률을 계산할 수 있을 뿐만 아니라, 확률 변수의 평균, 분산 등의 특성을 추정할 수 있다."
   ]
  },
  {
   "cell_type": "markdown",
   "id": "29737316",
   "metadata": {},
   "source": [
    "#### 확률의 기댓값과 분산\n",
    "확률 변수 $X$의 기대값은 $E(X)$로 표현하며, 확률 변수의 평균이라고도 한다. 확률 변수가 각각의 값에 대해 가지는 가중치를 고려하여 평균을 계산한다. 확률 변수 $X$의 분산은 $Var(X)$로 표현하며, 확률 변수가 평균에서 얼마나 분산되어 있는지를 나타내는 값이다. 분산은 확률 변수와 기대값의 차이의 제곱의 평균으로 계산된다."
   ]
  },
  {
   "cell_type": "markdown",
   "id": "23223960",
   "metadata": {},
   "source": [
    "#### 표본분포\n",
    "하지만 통계학에서 현실의 문제를 다룰 때에는 대부분 모분산 $\\sigma^2$을 알지 못한다. 1900년대 윌리엄 고셋은 실험을 통해 표본 크기가 작은 경우 해당 분포가 정규분포와 사뭇 다르다는 사실을 발견했고, 이 분포를 정리하여 Student라는 필명으로 발표하면서 t분포가 탄생했다. t분포는 정규분포처럼 평균을 중심으로 종형의 모습을 가진 대칭 분포이지만, 정규분포에 비해 평균에 좀 덜 몰려 있고, 극단적인 값들이 좀 더 많은 형태를 보인다. t분포는 자유도 $n$에 따라 모양이 변하는데, 자유도가 커짐에 따라 정규분포에 수렴한다."
   ]
  }
 ],
 "metadata": {
  "kernelspec": {
   "display_name": "Python 3 (ipykernel)",
   "language": "python",
   "name": "python3"
  },
  "language_info": {
   "codemirror_mode": {
    "name": "ipython",
    "version": 3
   },
   "file_extension": ".py",
   "mimetype": "text/x-python",
   "name": "python",
   "nbconvert_exporter": "python",
   "pygments_lexer": "ipython3",
   "version": "3.9.12"
  }
 },
 "nbformat": 4,
 "nbformat_minor": 5
}
