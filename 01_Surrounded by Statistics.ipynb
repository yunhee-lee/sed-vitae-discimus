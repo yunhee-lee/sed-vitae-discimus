{
 "cells": [
  {
   "cell_type": "markdown",
   "id": "c0c75db5",
   "metadata": {},
   "source": [
    "# 1-1. 생활 속의 통계"
   ]
  },
  {
   "cell_type": "markdown",
   "id": "6ba787af",
   "metadata": {},
   "source": [
    "# 1-2. 통계, 데이터 과학의 정의"
   ]
  },
  {
   "cell_type": "markdown",
   "id": "82ab6e22",
   "metadata": {},
   "source": [
    "방송통신대학교 통계데이터과학과에 등록하고, 처음 들었던 통계학개론 수업에서는 통계학을 불확실한 현상을 이해하기 위해 데이터를 수집하고, 그 데이터가 가지고 있는 패턴을 요약, 분석하여 이로부터 불확실한 현상에 대한 결론을 찾는 학문으로 정의한다. 데이터 과학의 정의 또한 크게 다르지 않다. 체감하기에 “데이터”를 활용하여 어떤 문제를 정의하고 해결하는 과정을 학계에서는 ‘통계학’으로 부르고, 산업계에서는 ‘데이터 과학’으로 통칭하는 것 같다.\n",
    "\n",
    "데이터 과학자이자 기업가, 저술가인 Drew Conway는 2010년 작성한 글(이제는 거의 고전이 되었다.) [The Data Science Venn Diagram](http://drewconway.com/zia/2013/3/26/the-data-science-venn-diagram)에서 일반적으로 전통적인 통계학자는 깊은 수리통계적 지식을 바탕으로 실무 지식을 확장해 나가는 반면, Hacking(Computing) Skill을 함양하는 데에는 상대적으로 소홀하다고 지적했다. 하지만 이러한 전통에 맞서고자 하는 연구자들이 많아지고 있다는 언급을 추가로 남겼으니, 10년 이상의 시간이 흐른 지금은 그가 꼬집은 문제점이 개선 되었으려나?"
   ]
  },
  {
   "cell_type": "markdown",
   "id": "d9fa6253",
   "metadata": {},
   "source": [
    "# 1-3. 통계학자, 데이터 과학자의 일"
   ]
  },
  {
   "cell_type": "markdown",
   "id": "57bb135a",
   "metadata": {},
   "source": [
    "그렇다면 통계학자 또는 데이터 과학자는 어떤 방법으로 데이터를 활용할까? 실리콘밸리에서 일하는 데이터 과학자 [권재명님의 저서](https://product.kyobobook.co.kr/detail/S000001875107)에 “데이터 과학 프로세스”라는 이름으로 데이터 과학자의 일이 잘 정리되어 있다.\n",
    "\n",
    "1. **문제 정의(problem definition)** : 현실의 구체적인 문제를 명확하게 표현하고 통계적, 수리적 언어로 ‘번역’하는 작업\n",
    "2. **데이터 정의(data definition)** : 변수(variable), 지표(metric) 등을 정의\n",
    "3. **실험 계획(design of experiment)과 표본화(sampling)** : 데이터를 직접 수집해야 하는 대표적인 두 가지 경우는 (1) 통제 실험과 (2) 모집단을 대표하는 표본을 얻기 위한 표본화\n",
    "4. **데이터 취득(data acquisition)** : 다양한 형태의, 다양한 시스템에 저장된 원데이터를 분석 시스템으로 가져오는 활동\n",
    "5. **데이터 가공(data processing, wrangling)** : 데이터를 분석하기 적당한 표 형태로 가공\n",
    "6. **탐색적 분석(exploratory data analysis)과 데이터 시각화(data visualization)** : 시각화와 간단한 통계량을 통하여 데이터의 패턴을 발견하고 이상치를 점검\n",
    "7. **모형화(modeling)** : 모수 추정, 가설검정 등의 활동과 모형분석, 예측분석 등을 포괄\n",
    "8. **분석 결과 정리(reporting)** : 분석 결과를 현실적인 언어로 이해하기 쉽도록 번역해내는 작업\n",
    "\n",
    "위 목록은 데이터 과학자가 하게 되는 일의 Longlist에 가깝고, 해결하고자 하는 문제가 무엇인지, 가지고 있는 데이터 환경 및 데이터 셋에 따라 모든 절차가 필요하지 않을 수 있다. 또한 저자는 데이터 과학 프로세스는 대게 선형적으로 진행되지 않으며,  데이터가 말해주는 내용을 좇아서 능동적으로 적응해나간다는 점에서 점진적이면서 순환적(iterative) 과정으로 이해할 것을 당부했다."
   ]
  }
 ],
 "metadata": {
  "kernelspec": {
   "display_name": "Python 3 (ipykernel)",
   "language": "python",
   "name": "python3"
  },
  "language_info": {
   "codemirror_mode": {
    "name": "ipython",
    "version": 3
   },
   "file_extension": ".py",
   "mimetype": "text/x-python",
   "name": "python",
   "nbconvert_exporter": "python",
   "pygments_lexer": "ipython3",
   "version": "3.9.12"
  }
 },
 "nbformat": 4,
 "nbformat_minor": 5
}
